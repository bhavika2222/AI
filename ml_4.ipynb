{
  "nbformat": 4,
  "nbformat_minor": 0,
  "metadata": {
    "colab": {
      "provenance": [],
      "authorship_tag": "ABX9TyN8fbD9AzSXe0ZTYtcuPy7f",
      "include_colab_link": true
    },
    "kernelspec": {
      "name": "python3",
      "display_name": "Python 3"
    },
    "language_info": {
      "name": "python"
    }
  },
  "cells": [
    {
      "cell_type": "markdown",
      "metadata": {
        "id": "view-in-github",
        "colab_type": "text"
      },
      "source": [
        "<a href=\"https://colab.research.google.com/github/bhavika2222/AI/blob/master/ml_4.ipynb\" target=\"_parent\"><img src=\"https://colab.research.google.com/assets/colab-badge.svg\" alt=\"Open In Colab\"/></a>"
      ]
    },
    {
      "cell_type": "code",
      "execution_count": null,
      "metadata": {
        "id": "vCQ7FHp3h_MX"
      },
      "outputs": [],
      "source": [
        "import pandas as pd\n",
        "df = pd.read_csv('/content/SMSSpamCollection',delimiter = '\\t', header=None)\n",
        "df.head(n=10)\n",
        "df.columns = ['Class_label', 'Message']\n",
        "df['Class_label'] = df['Class_label'].apply(lambda x: 1 if x == 'spam' else 0)\n",
        "from sklearn.model_selection import train_test_split\n",
        "x_train, x_test, y_train, y_test = train_test_split(df['Message'], df['Class_label'], test_size = 0.3,\n",
        "random_state = 0)\n",
        "from sklearn.feature_extraction.text import TfidfVectorizer\n",
        "vectorizer = TfidfVectorizer()\n",
        "vectorizer.fit(df['Message'])\n",
        "print(vectorizer.vocabulary_)\n",
        "new_train_set = vectorizer.transform(x_train)\n",
        "new_test_set = vectorizer.transform(x_test)\n",
        "print(new_train_set.shape)\n",
        "print(new_test_set.shape)\n",
        "from sklearn.naive_bayes import MultinomialNB\n",
        "classifier = MultinomialNB()\n",
        "classifier.fit(new_train_set, y_train)\n",
        "print(\"classifier accuracy {:.2f}%\".format(classifier.score(new_test_set, y_test) * 100))\n",
        "email = [\n",
        "'hey Gauri can you get together for lunch' ,\n",
        "'upto 70% discount on exclusive offer'\n",
        "]\n",
        "new_email = vectorizer.transform(email)\n",
        "classifier.predict(new_email)\n"
      ]
    }
  ]
}