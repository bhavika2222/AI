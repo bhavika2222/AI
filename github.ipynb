{
  "nbformat": 4,
  "nbformat_minor": 0,
  "metadata": {
    "colab": {
      "provenance": [],
      "authorship_tag": "ABX9TyN3fD+2it50HFlxG9YXdn7S",
      "include_colab_link": true
    },
    "kernelspec": {
      "name": "python3",
      "display_name": "Python 3"
    },
    "language_info": {
      "name": "python"
    }
  },
  "cells": [
    {
      "cell_type": "markdown",
      "metadata": {
        "id": "view-in-github",
        "colab_type": "text"
      },
      "source": [
        "<a href=\"https://colab.research.google.com/github/bhavika2222/my-files/blob/master/github.ipynb\" target=\"_parent\"><img src=\"https://colab.research.google.com/assets/colab-badge.svg\" alt=\"Open In Colab\"/></a>"
      ]
    },
    {
      "cell_type": "code",
      "execution_count": null,
      "metadata": {
        "id": "hcHN98j_23R_"
      },
      "outputs": [],
      "source": [
        "#software req git and github\n",
        "#steps\n",
        "\n",
        "#install git software\n",
        "#create one folder on desktop and open in vs code\n",
        "#open terminal in vscode and type mkdir git and open new file in it.\n",
        "#type command \n",
        "#git --version\n",
        "#create new rep on github and copy link\n",
        "#initialize rep by using foll commands\n",
        "#git init\n",
        "#git add .\n",
        "#git status\n",
        "#git remote add origin\"copied url\"\n",
        "#git commit -m \"first commit\"\n",
        "#git status\n",
        "#git push -u origin master\n",
        "#\n",
        "#now check output on github after authentication completed.\n",
        "#"
      ]
    }
  ]
}