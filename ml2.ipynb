{
  "nbformat": 4,
  "nbformat_minor": 0,
  "metadata": {
    "colab": {
      "provenance": [],
      "authorship_tag": "ABX9TyMaS4wPdZZovrVbC+U3xU5f",
      "include_colab_link": true
    },
    "kernelspec": {
      "name": "python3",
      "display_name": "Python 3"
    },
    "language_info": {
      "name": "python"
    }
  },
  "cells": [
    {
      "cell_type": "markdown",
      "metadata": {
        "id": "view-in-github",
        "colab_type": "text"
      },
      "source": [
        "<a href=\"https://colab.research.google.com/github/bhavika2222/AI/blob/master/ml2.ipynb\" target=\"_parent\"><img src=\"https://colab.research.google.com/assets/colab-badge.svg\" alt=\"Open In Colab\"/></a>"
      ]
    },
    {
      "cell_type": "code",
      "execution_count": 1,
      "metadata": {
        "colab": {
          "base_uri": "https://localhost:8080/",
          "height": 132
        },
        "id": "EaNuMu-8hKRg",
        "outputId": "f296168f-1528-4b14-dcd8-b542630b7bce"
      },
      "outputs": [
        {
          "output_type": "error",
          "ename": "IndentationError",
          "evalue": "ignored",
          "traceback": [
            "\u001b[0;36m  File \u001b[0;32m\"<ipython-input-1-09aa55739d31>\"\u001b[0;36m, line \u001b[0;32m15\u001b[0m\n\u001b[0;31m    lr = LinearRegression()\u001b[0m\n\u001b[0m    ^\u001b[0m\n\u001b[0;31mIndentationError\u001b[0m\u001b[0;31m:\u001b[0m unexpected indent\n"
          ]
        }
      ],
      "source": [
        "import matplotlib.pyplot as plt\n",
        "import numpy as np\n",
        "import pandas as pd\n",
        "from sklearn.metrics import mean_squared_error,mean_absolute_error,r2_score\n",
        "temp_dataset = pd.read_csv('temperatures.csv')\n",
        "temp_dataset.head()\n",
        "temp_dataset.shape\n",
        "temp_dataset.isnull().sum()\n",
        "from sklearn.model_selection import train_test_split\n",
        "from sklearn.linear_model import LinearRegression\n",
        "X=temp_dataset[[\"YEAR\"]] # input column\n",
        "y=temp_dataset[\"JAN\"] # target column\n",
        "X_train, X_test, y_train, y_test = train_test_split(X, y, test_size = 0.2, random_state = 42)\n",
        "print(X_train.shape, X_test.shape)\n",
        " lr = LinearRegression()\n",
        " lr.fit(X_train, y_train)\n",
        " y_test_lr = lr.predict(X_test)\n",
        "y_train_lr = lr.predict(X_train)\n",
        " print(\"Intercept\",lr.intercept_) \n",
        "print(\"Slope\",lr.coef_)\n",
        "print(\"Linear Regression: Accuracy on test Data: {:.3f}\".format(lr.score(X_test, y_test)))\n",
        "plt.plot(X,y)\n",
        "plt.xlabel(\"Year\")\n",
        "plt.ylabel(\"Temperature\")\n",
        "plt.title(\"Annual Temperature from 1901-2017\")\n",
        "plt.show()\n",
        "plt.scatter(X_test,y_test,color = 'blue');\n",
        "plt.scatter(X_train,y_train,color = 'red');\n",
        "plt.plot(X_train,lr.predict(X_train), color = 'black');\n",
        "plt.legend(['Best fit Regression lIne','Testing Set','Training Set'])\n",
        "plt.title('Temperature vs Year for month Jan')\n",
        "plt.xlabel('Year')\n",
        "plt.ylabel('Temperature')\n",
        "plt.show();\n",
        "print('R-Squared Error :',r2_score(y_test,y_test_lr))\n",
        "print('Mean Absolute Error :',mean_absolute_error(y_test,y_test_lr))\n",
        "print('Mean Squared Error :',mean_squared_error(y_test,y_test_lr))\n",
        "print('Root Mean Squared Error :',np.sqrt(mean_squared_error(y_test,y_test_lr)))\n"
      ]
    }
  ]
}