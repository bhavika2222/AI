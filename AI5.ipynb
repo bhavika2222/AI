{
  "nbformat": 4,
  "nbformat_minor": 0,
  "metadata": {
    "colab": {
      "provenance": [],
      "authorship_tag": "ABX9TyMfWV9QWaGYj1OAxo7zaLt+",
      "include_colab_link": true
    },
    "kernelspec": {
      "name": "python3",
      "display_name": "Python 3"
    },
    "language_info": {
      "name": "python"
    }
  },
  "cells": [
    {
      "cell_type": "markdown",
      "metadata": {
        "id": "view-in-github",
        "colab_type": "text"
      },
      "source": [
        "<a href=\"https://colab.research.google.com/github/bhavika2222/my-files/blob/master/AI5.ipynb\" target=\"_parent\"><img src=\"https://colab.research.google.com/assets/colab-badge.svg\" alt=\"Open In Colab\"/></a>"
      ]
    },
    {
      "cell_type": "code",
      "execution_count": null,
      "metadata": {
        "colab": {
          "base_uri": "https://localhost:8080/"
        },
        "id": "x_RJXPqJlgxf",
        "outputId": "e37c9202-1697-4db4-e277-17c5b0ccd0c7"
      },
      "outputs": [
        {
          "output_type": "stream",
          "name": "stdout",
          "text": [
            "Tic Tac Toe - Let's Play!\n",
            "  |   |  \n",
            "---------\n",
            "  |   |  \n",
            "---------\n",
            "  |   |  \n",
            "---------\n"
          ]
        }
      ],
      "source": [
        "\n",
        "def print_board(board):\n",
        "    for row in board:\n",
        "        print(\" | \".join(row))\n",
        "        print(\"-\" * 9)\n",
        "\n",
        "def check_win(board, player):\n",
        "    for i in range(3):\n",
        "        if all(cell == player for cell in board[i]):\n",
        "            return True\n",
        "        if all(board[j][i] == player for j in range(3)):\n",
        "            return True\n",
        "    if board[0][0] == board[1][1] == board[2][2] == player:\n",
        "        return True\n",
        "    if board[0][2] == board[1][1] == board[2][0] == player:\n",
        "        return True\n",
        "    return False\n",
        "\n",
        "def play_tic_tac_toe():\n",
        "    board = [[\" \"]*3 for _ in range(3)]\n",
        "    player = \"X\"\n",
        "    print(\"Tic Tac Toe - Let's Play!\")\n",
        "    print_board(board)\n",
        "\n",
        "    for _ in range(9):\n",
        "        row = int(input(\"Enter the row (0-2): \"))\n",
        "        col = int(input(\"Enter the column (0-2): \"))\n",
        "        if board[row][col] != \" \":\n",
        "            print(\"Invalid move. Try again.\")\n",
        "            continue\n",
        "        board[row][col] = player\n",
        "        if check_win(board, player):\n",
        "            print(\"Player\", player, \"wins!\")\n",
        "            break\n",
        "        player = \"O\" if player == \"X\" else \"X\"\n",
        "        print_board(board)\n",
        "    else:\n",
        "        print(\"It's a tie!\")\n",
        "\n",
        "play_tic_tac_toe()\n"
      ]
    }
  ]
}