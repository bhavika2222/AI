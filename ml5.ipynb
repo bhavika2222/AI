{
  "nbformat": 4,
  "nbformat_minor": 0,
  "metadata": {
    "colab": {
      "provenance": [],
      "authorship_tag": "ABX9TyNQhtMWCniJzzx7g6rDFo0q",
      "include_colab_link": true
    },
    "kernelspec": {
      "name": "python3",
      "display_name": "Python 3"
    },
    "language_info": {
      "name": "python"
    }
  },
  "cells": [
    {
      "cell_type": "markdown",
      "metadata": {
        "id": "view-in-github",
        "colab_type": "text"
      },
      "source": [
        "<a href=\"https://colab.research.google.com/github/bhavika2222/AI/blob/master/ml5.ipynb\" target=\"_parent\"><img src=\"https://colab.research.google.com/assets/colab-badge.svg\" alt=\"Open In Colab\"/></a>"
      ]
    },
    {
      "cell_type": "code",
      "execution_count": null,
      "metadata": {
        "id": "xJz76p0U3w1f"
      },
      "outputs": [],
      "source": [
        "import numpy as np\n",
        "import pandas as pd\n",
        "import matplotlib.pyplot as plt\n",
        "from sklearn.cluster import KMeans\n",
        "import seaborn as sns\n",
        "df = pd.read_csv(\"Mall_Customers.csv\")\n",
        "df.head()\n",
        "df.shape\n",
        "df.columns\n",
        "df.drop(\"CustomerID\",axis=1,inplace=True)\n",
        "print(\"Missing values:\")\n",
        "df.isnull().sum()\n",
        "from sklearn.preprocessing import LabelEncoder\n",
        "from sklearn import metrics\n",
        "le = LabelEncoder()\n",
        "df[\"Genre\"] = le.fit_transform(df[\"Genre\"])\n",
        "data = df.copy()\n",
        "x = data.iloc[:,[2,3]]\n",
        "wcss = []\n",
        "for i in range(1,11):\n",
        "kmeans = KMeans(n_clusters=i, init='k-means++',random_state=42)\n",
        "kmeans.fit(x)\n",
        "wcss.append(kmeans.inertia_)\n",
        "print('k:',i ,\"-> wcss:\",kmeans.inertia_)\n",
        "plt.plot(range(1,11),wcss,marker='o')\n",
        "plt.title('The Elbow Method')\n",
        "plt.xlabel('Number of Clusters')\n",
        "plt.ylabel('WCSS')\n",
        "plt.show()\n",
        "km1=KMeans(n_clusters=5)\n",
        "km1.fit(data)\n",
        "pred_y =km1.predict(data)\n",
        "data[\"label\"] = pred_y\n",
        "plt.figure(figsize=(6,4))\n",
        "sns.scatterplot(x = 'Annual Income (k$)',y = 'Spending Score (1-100)',hue=\"label\",\n",
        "palette=['green','brown','orange','red','dodgerblue'],data = data )\n",
        "plt.xlabel('Annual Income (k$)')\n",
        "plt.ylabel('Spending Score (1-100)')\n",
        "plt.title('Spending Score (1-100) vs Annual Income (k$)')\n",
        "plt.show()\n",
        "X=data.iloc[:,:4]\n",
        "y=data.iloc[:,-1]\n",
        "from sklearn.model_selection import train_test_split\n",
        "X_train, X_test, y_train, y_test = train_test_split(X, y, test_size=0.2, random_state=42)\n",
        "print(X_train.shape,y_train.shape)\n",
        "print(X_test.shape,y_test.shape)\n",
        "from sklearn.cluster import KMeans\n",
        "km=KMeans(n_clusters=5)\n",
        "km.fit(X_train)\n",
        "y_train_km = km.predict(X_train)\n",
        "y_test_km = km.predict(X_test)\n",
        "from sklearn.metrics.cluster import adjusted_rand_score\n",
        "acc_train_gmm = adjusted_rand_score(y_train,y_train_km)\n",
        "acc_test_gmm = adjusted_rand_score(y_test,y_test_km)\n",
        "print(\"K mean : Accuracy on training Data: {:.3f}\".format(acc_train_gmm))\n",
        "print(\"K mean : Accuracy on test Data: {:.3f}\".format(acc_test_gmm))\n",
        "data = data.iloc[:,[2,3]]\n",
        "from sklearn.cluster import AgglomerativeClustering\n",
        "agc = AgglomerativeClustering(n_clusters=5)\n",
        "data[\"label\"] = agc.fit_predict(data)\n",
        "data\n",
        "sns.scatterplot(x = 'Annual Income (k$)',y = 'Spending Score (1-100)',hue=\"label\",\n",
        "palette=['green','brown','orange','red','dodgerblue'],data = data )\n",
        "plt.xlabel('Annual Income (k$)')\n",
        "plt.ylabel('Spending Score (1-100)')\n",
        "plt.title('Spending Score (1-100) vs Annual Income (k$)')\n",
        "plt.show()"
      ]
    }
  ]
}