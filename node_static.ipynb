{
  "nbformat": 4,
  "nbformat_minor": 0,
  "metadata": {
    "colab": {
      "provenance": [],
      "authorship_tag": "ABX9TyNTUyzKZmTQLV3nzD73MDG4",
      "include_colab_link": true
    },
    "kernelspec": {
      "name": "python3",
      "display_name": "Python 3"
    },
    "language_info": {
      "name": "python"
    }
  },
  "cells": [
    {
      "cell_type": "markdown",
      "metadata": {
        "id": "view-in-github",
        "colab_type": "text"
      },
      "source": [
        "<a href=\"https://colab.research.google.com/github/bhavika2222/my-files/blob/master/node_static.ipynb\" target=\"_parent\"><img src=\"https://colab.research.google.com/assets/colab-badge.svg\" alt=\"Open In Colab\"/></a>"
      ]
    },
    {
      "cell_type": "code",
      "execution_count": null,
      "metadata": {
        "id": "fhdkIJdy00OD"
      },
      "outputs": [],
      "source": [
        "#create one folder on desktop and open in vs code\n",
        "#open terminal type foll command\n",
        "#npm init\n",
        "#install express js   npm install express\n",
        "#create one folder public i.e desk folder>public>new file (index.html)\n",
        "#create one file in public index.html\n",
        "#now in old folder of desktop create file (index.js)\n",
        "#write below code in index.js\n",
        "#const express=require('express')\n",
        "#const app=express();\n",
        "\n",
        "#app.use(express.static('public'))\n",
        "\n",
        "#app.listen(5000,()=>{\n",
        "   # console.log(\"Server is started\");\n",
        "\n",
        "#})\n",
        "\n",
        "\n",
        "\n",
        "\n",
        "#in index.html\n",
        "#<!DOCTYPE html>\n",
        "#<html lang=\"en\">\n",
        "#<head>\n",
        "    #<meta charset=\"UTF-8\">\n",
        "    #<meta http-equiv=\"X-UA-Compatible\" content=\"IE=edge\">\n",
        "    #<meta name=\"viewport\" content=\"width=device-width, initial-scale=1.0\">\n",
        "    #<title>Home</title>\n",
        "#</head>\n",
        "#<body>\n",
        "    #<h1>This is static web page</h1>\n",
        "#</body>\n",
        "#</html>\n",
        "#\n",
        "# now open terminal and type node index.js\n",
        "#open browser localhost 5000\n",
        "#\n",
        "#to see o/p on server side on local host\n",
        "\n",
        "#\n",
        "#\n",
        "#\n",
        "#\n",
        "#"
      ]
    }
  ]
}